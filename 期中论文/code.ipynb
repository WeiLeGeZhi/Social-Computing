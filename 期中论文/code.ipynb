{
 "cells": [
  {
   "cell_type": "code",
   "execution_count": 1,
   "id": "f2262d33",
   "metadata": {},
   "outputs": [
    {
     "name": "stderr",
     "output_type": "stream",
     "text": [
      "C:\\Users\\HUAWEI\\anaconda3\\lib\\site-packages\\torch\\_functorch\\deprecated.py:61: UserWarning: We've integrated functorch into PyTorch. As the final step of the integration, functorch.vmap is deprecated as of PyTorch 2.0 and will be deleted in a future version of PyTorch >= 2.3. Please use torch.vmap instead; see the PyTorch 2.0 release notes and/or the torch.func migration guide for more details https://pytorch.org/docs/master/func.migrating.html\n",
      "  warn_deprecated('vmap', 'torch.vmap')\n"
     ]
    }
   ],
   "source": [
    "import pandas as pd\n",
    "from sklearn.model_selection import train_test_split\n",
    "from sklearn.linear_model import LogisticRegression\n",
    "from sklearn.metrics import classification_report\n",
    "from aif360.datasets import GermanDataset\n",
    "from aif360.metrics import BinaryLabelDatasetMetric\n",
    "from aif360.explainers import MetricTextExplainer\n",
    "from aif360.algorithms.preprocessing import Reweighing\n",
    "from aif360.algorithms.preprocessing import DisparateImpactRemover\n",
    "from IPython.display import Markdown, display"
   ]
  },
  {
   "cell_type": "code",
   "execution_count": 2,
   "id": "91af5f40",
   "metadata": {},
   "outputs": [
    {
     "data": {
      "text/markdown": [
       "#### Original Training Dataset"
      ],
      "text/plain": [
       "<IPython.core.display.Markdown object>"
      ]
     },
     "metadata": {},
     "output_type": "display_data"
    },
    {
     "name": "stdout",
     "output_type": "stream",
     "text": [
      "Disparate Impact - Sex:  0.9007460182245284\n",
      "Statistical Parity Difference - Sex:  -0.07246786535489458\n",
      "Disparate Impact - Age:  0.78020666371108\n",
      "Statistical Parity Difference - Age:  -0.1626785804432329\n"
     ]
    }
   ],
   "source": [
    "# 加载数据集，将性别和年龄设置为受保护属性\n",
    "dataset_orig = GermanDataset(\n",
    "    protected_attribute_names=['sex', 'age'],\n",
    "    features_to_drop=['personal_status']        # 忽略与个人状态有关的属性\n",
    ")\n",
    "\n",
    "# 将数据集拆分为训练集和测试集\n",
    "dataset_orig_train, dataset_orig_test = dataset_orig.split([0.7], shuffle=True)\n",
    "\n",
    "# 定义特权组和非特权组\n",
    "privileged_groups_sex = [{'sex': 1}]\n",
    "unprivileged_groups_sex = [{'sex': 0}]\n",
    "unprivileged_groups_age = [{'age': 0}]\n",
    "privileged_groups_age = [{'age': 1}]\n",
    "\n",
    "# 使用 BinaryLabelDatasetMetric 计算公平性指标\n",
    "metric_orig_train_age = BinaryLabelDatasetMetric(dataset_orig_train, \n",
    "                                             unprivileged_groups=unprivileged_groups_age,\n",
    "                                             privileged_groups=privileged_groups_age)\n",
    "metric_orig_train_sex = BinaryLabelDatasetMetric(dataset_orig_train, \n",
    "                                             unprivileged_groups=unprivileged_groups_sex,\n",
    "                                             privileged_groups=privileged_groups_sex)\n",
    "display(Markdown(\"#### Original Training Dataset\"))\n",
    "print(\"Disparate Impact - Sex: \", metric_orig_train_sex.disparate_impact())\n",
    "print(\"Statistical Parity Difference - Sex: \", metric_orig_train_sex.statistical_parity_difference())\n",
    "print(\"Disparate Impact - Age: \", metric_orig_train_age.disparate_impact())\n",
    "print(\"Statistical Parity Difference - Age: \", metric_orig_train_age.statistical_parity_difference())"
   ]
  },
  {
   "cell_type": "code",
   "execution_count": 3,
   "id": "3205cd40",
   "metadata": {},
   "outputs": [
    {
     "data": {
      "text/markdown": [
       "#### DI repaired dataset"
      ],
      "text/plain": [
       "<IPython.core.display.Markdown object>"
      ]
     },
     "metadata": {},
     "output_type": "display_data"
    },
    {
     "name": "stdout",
     "output_type": "stream",
     "text": [
      "DI repaired by age on age:\n",
      "Disparate Impact:  0.78020666371108\n",
      "Statistical Parity Difference:  -0.1626785804432329\n",
      "DI repaired by age on sex:\n",
      "Disparate Impact:  0.9007460182245284\n",
      "Statistical Parity Difference:  -0.07246786535489458\n",
      "DI repaired by sex on age:\n",
      "Disparate Impact:  0.78020666371108\n",
      "Statistical Parity Difference:  -0.1626785804432329\n",
      "DI repaired by sex on sex:\n",
      "Disparate Impact:  0.9007460182245284\n",
      "Statistical Parity Difference:  -0.07246786535489458\n"
     ]
    }
   ],
   "source": [
    "di_repairer_sex = DisparateImpactRemover(repair_level=1.0, sensitive_attribute='sex')\n",
    "di_repairer_age = DisparateImpactRemover(repair_level=1.0, sensitive_attribute='age')\n",
    "\n",
    "dataset_transf_train_di_sex = di_repairer_sex.fit_transform(dataset_orig_train)\n",
    "dataset_transf_train_di_age = di_repairer_age.fit_transform(dataset_orig_train)\n",
    "\n",
    "metric_transf_train_di_aa = BinaryLabelDatasetMetric(dataset_transf_train_di_age, \n",
    "                                                  unprivileged_groups=unprivileged_groups_age,\n",
    "                                                  privileged_groups=privileged_groups_age)\n",
    "metric_transf_train_di_as = BinaryLabelDatasetMetric(dataset_transf_train_di_age, \n",
    "                                                  unprivileged_groups=unprivileged_groups_sex,\n",
    "                                                  privileged_groups=privileged_groups_sex)\n",
    "metric_transf_train_di_sa = BinaryLabelDatasetMetric(dataset_transf_train_di_sex, \n",
    "                                                  unprivileged_groups=unprivileged_groups_age,\n",
    "                                                  privileged_groups=privileged_groups_age)\n",
    "metric_transf_train_di_ss = BinaryLabelDatasetMetric(dataset_transf_train_di_age, \n",
    "                                                  unprivileged_groups=unprivileged_groups_sex,\n",
    "                                                  privileged_groups=privileged_groups_sex)\n",
    "\n",
    "display(Markdown(\"#### DI repaired dataset\"))\n",
    "print(\"DI repaired by age on age:\")\n",
    "print(\"Disparate Impact: \", metric_transf_train_di_aa.disparate_impact())\n",
    "print(\"Statistical Parity Difference: \", metric_transf_train_di_aa.statistical_parity_difference())\n",
    "print(\"DI repaired by age on sex:\")\n",
    "print(\"Disparate Impact: \", metric_transf_train_di_as.disparate_impact())\n",
    "print(\"Statistical Parity Difference: \", metric_transf_train_di_as.statistical_parity_difference())\n",
    "print(\"DI repaired by sex on age:\")\n",
    "print(\"Disparate Impact: \", metric_transf_train_di_sa.disparate_impact())\n",
    "print(\"Statistical Parity Difference: \", metric_transf_train_di_sa.statistical_parity_difference())\n",
    "print(\"DI repaired by sex on sex:\")\n",
    "print(\"Disparate Impact: \", metric_transf_train_di_ss.disparate_impact())\n",
    "print(\"Statistical Parity Difference: \", metric_transf_train_di_ss.statistical_parity_difference())"
   ]
  },
  {
   "cell_type": "code",
   "execution_count": 4,
   "id": "5442ace0",
   "metadata": {},
   "outputs": [
    {
     "data": {
      "text/markdown": [
       "#### Reweighed dataset"
      ],
      "text/plain": [
       "<IPython.core.display.Markdown object>"
      ]
     },
     "metadata": {},
     "output_type": "display_data"
    },
    {
     "name": "stdout",
     "output_type": "stream",
     "text": [
      "Reweighted by age on age:\n",
      "Disparate Impact:  1.0000000000000002\n",
      "Statistical Parity Difference:  1.1102230246251565e-16\n",
      "Reweighted by age on sex:\n",
      "Disparate Impact:  0.9447281477881262\n",
      "Statistical Parity Difference:  -0.03978543479618435\n",
      "Reweighted by sex on age:\n",
      "Disparate Impact:  0.8074539422665871\n",
      "Statistical Parity Difference:  -0.1416818480272991\n",
      "Reweighted by sex on sex:\n",
      "Disparate Impact:  1.0000000000000002\n",
      "Statistical Parity Difference:  1.1102230246251565e-16\n"
     ]
    }
   ],
   "source": [
    "RW_age = Reweighing(unprivileged_groups=unprivileged_groups_age,\n",
    "                privileged_groups=privileged_groups_age)\n",
    "dataset_transf_train_age = RW_age.fit_transform(dataset_orig_train)\n",
    "\n",
    "RW_sex = Reweighing(unprivileged_groups=unprivileged_groups_sex,\n",
    "                privileged_groups=privileged_groups_sex)\n",
    "dataset_transf_train_sex = RW_sex.fit_transform(dataset_orig_train)\n",
    "\n",
    "metric_transf_train_aa = BinaryLabelDatasetMetric(dataset_transf_train_age, \n",
    "                                               unprivileged_groups=unprivileged_groups_age,\n",
    "                                               privileged_groups=privileged_groups_age)\n",
    "metric_transf_train_as = BinaryLabelDatasetMetric(dataset_transf_train_age, \n",
    "                                               unprivileged_groups=unprivileged_groups_sex,\n",
    "                                               privileged_groups=privileged_groups_sex)\n",
    "\n",
    "metric_transf_train_sa = BinaryLabelDatasetMetric(dataset_transf_train_sex, \n",
    "                                               unprivileged_groups=unprivileged_groups_age,\n",
    "                                               privileged_groups=privileged_groups_age)\n",
    "\n",
    "metric_transf_train_ss = BinaryLabelDatasetMetric(dataset_transf_train_sex, \n",
    "                                               unprivileged_groups=unprivileged_groups_sex,\n",
    "                                               privileged_groups=privileged_groups_sex)\n",
    "\n",
    "display(Markdown(\"#### Reweighed dataset\"))\n",
    "print(\"Reweighted by age on age:\")\n",
    "print(\"Disparate Impact: \", metric_transf_train_aa.disparate_impact())\n",
    "print(\"Statistical Parity Difference: \", metric_transf_train_aa.statistical_parity_difference())\n",
    "print(\"Reweighted by age on sex:\")\n",
    "print(\"Disparate Impact: \", metric_transf_train_as.disparate_impact())\n",
    "print(\"Statistical Parity Difference: \", metric_transf_train_as.statistical_parity_difference())\n",
    "print(\"Reweighted by sex on age:\")\n",
    "print(\"Disparate Impact: \", metric_transf_train_sa.disparate_impact())\n",
    "print(\"Statistical Parity Difference: \", metric_transf_train_sa.statistical_parity_difference())\n",
    "print(\"Reweighted by sex on sex:\")\n",
    "print(\"Disparate Impact: \", metric_transf_train_ss.disparate_impact())\n",
    "print(\"Statistical Parity Difference: \", metric_transf_train_ss.statistical_parity_difference())"
   ]
  },
  {
   "cell_type": "code",
   "execution_count": null,
   "id": "0ba13820",
   "metadata": {},
   "outputs": [],
   "source": []
  }
 ],
 "metadata": {
  "kernelspec": {
   "display_name": "Python 3 (ipykernel)",
   "language": "python",
   "name": "python3"
  },
  "language_info": {
   "codemirror_mode": {
    "name": "ipython",
    "version": 3
   },
   "file_extension": ".py",
   "mimetype": "text/x-python",
   "name": "python",
   "nbconvert_exporter": "python",
   "pygments_lexer": "ipython3",
   "version": "3.10.4"
  }
 },
 "nbformat": 4,
 "nbformat_minor": 5
}
